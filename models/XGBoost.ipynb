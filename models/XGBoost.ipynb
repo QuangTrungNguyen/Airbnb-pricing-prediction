{
 "cells": [
  {
   "cell_type": "markdown",
   "metadata": {},
   "source": [
    "### Import Libraries and Dataset"
   ]
  },
  {
   "cell_type": "code",
   "execution_count": 3,
   "metadata": {},
   "outputs": [
    {
     "data": {
      "text/html": [
       "<script>requirejs.config({paths: { 'plotly': ['https://cdn.plot.ly/plotly-latest.min']},});if(!window.Plotly) {{require(['plotly'],function(plotly) {window.Plotly=plotly;});}}</script>"
      ],
      "text/vnd.plotly.v1+html": [
       "<script>requirejs.config({paths: { 'plotly': ['https://cdn.plot.ly/plotly-latest.min']},});if(!window.Plotly) {{require(['plotly'],function(plotly) {window.Plotly=plotly;});}}</script>"
      ]
     },
     "metadata": {},
     "output_type": "display_data"
    },
    {
     "name": "stdout",
     "output_type": "stream",
     "text": [
      "n_features: 23\n",
      "n_samples: 953\n"
     ]
    },
    {
     "data": {
      "text/html": [
       "<div>\n",
       "<style scoped>\n",
       "    .dataframe tbody tr th:only-of-type {\n",
       "        vertical-align: middle;\n",
       "    }\n",
       "\n",
       "    .dataframe tbody tr th {\n",
       "        vertical-align: top;\n",
       "    }\n",
       "\n",
       "    .dataframe thead th {\n",
       "        text-align: right;\n",
       "    }\n",
       "</style>\n",
       "<table border=\"1\" class=\"dataframe\">\n",
       "  <thead>\n",
       "    <tr style=\"text-align: right;\">\n",
       "      <th></th>\n",
       "      <th>Id</th>\n",
       "      <th>accommodates</th>\n",
       "      <th>bathrooms</th>\n",
       "      <th>bedrooms</th>\n",
       "      <th>beds</th>\n",
       "      <th>cleaning_fee</th>\n",
       "      <th>minimum_nights</th>\n",
       "      <th>number_of_reviews</th>\n",
       "      <th>review_scores_location</th>\n",
       "      <th>instant_bookable</th>\n",
       "      <th>...</th>\n",
       "      <th>property_type_Villa</th>\n",
       "      <th>room_type_Entire home/apt</th>\n",
       "      <th>room_type_Private room</th>\n",
       "      <th>room_type_Shared room</th>\n",
       "      <th>cancellation_policy_flexible</th>\n",
       "      <th>cancellation_policy_moderate</th>\n",
       "      <th>cancellation_policy_strict</th>\n",
       "      <th>area_Manly</th>\n",
       "      <th>area_Pittwater</th>\n",
       "      <th>area_Warringah</th>\n",
       "    </tr>\n",
       "  </thead>\n",
       "  <tbody>\n",
       "    <tr>\n",
       "      <th>0</th>\n",
       "      <td>570</td>\n",
       "      <td>0.052367</td>\n",
       "      <td>-0.577122</td>\n",
       "      <td>0.141696</td>\n",
       "      <td>-0.206717</td>\n",
       "      <td>-0.881690</td>\n",
       "      <td>-0.234696</td>\n",
       "      <td>-0.436781</td>\n",
       "      <td>0.90309</td>\n",
       "      <td>0</td>\n",
       "      <td>...</td>\n",
       "      <td>0</td>\n",
       "      <td>1</td>\n",
       "      <td>0</td>\n",
       "      <td>0</td>\n",
       "      <td>1</td>\n",
       "      <td>0</td>\n",
       "      <td>0</td>\n",
       "      <td>0</td>\n",
       "      <td>0</td>\n",
       "      <td>1</td>\n",
       "    </tr>\n",
       "    <tr>\n",
       "      <th>1</th>\n",
       "      <td>571</td>\n",
       "      <td>-0.690463</td>\n",
       "      <td>-0.577122</td>\n",
       "      <td>-0.827405</td>\n",
       "      <td>-0.901215</td>\n",
       "      <td>-0.178438</td>\n",
       "      <td>-0.234696</td>\n",
       "      <td>0.170065</td>\n",
       "      <td>1.00000</td>\n",
       "      <td>0</td>\n",
       "      <td>...</td>\n",
       "      <td>0</td>\n",
       "      <td>0</td>\n",
       "      <td>1</td>\n",
       "      <td>0</td>\n",
       "      <td>1</td>\n",
       "      <td>0</td>\n",
       "      <td>0</td>\n",
       "      <td>1</td>\n",
       "      <td>0</td>\n",
       "      <td>0</td>\n",
       "    </tr>\n",
       "    <tr>\n",
       "      <th>2</th>\n",
       "      <td>572</td>\n",
       "      <td>0.052367</td>\n",
       "      <td>-0.577122</td>\n",
       "      <td>-0.827405</td>\n",
       "      <td>-0.206717</td>\n",
       "      <td>-0.881690</td>\n",
       "      <td>0.205502</td>\n",
       "      <td>-0.436781</td>\n",
       "      <td>1.00000</td>\n",
       "      <td>0</td>\n",
       "      <td>...</td>\n",
       "      <td>0</td>\n",
       "      <td>1</td>\n",
       "      <td>0</td>\n",
       "      <td>0</td>\n",
       "      <td>0</td>\n",
       "      <td>0</td>\n",
       "      <td>1</td>\n",
       "      <td>0</td>\n",
       "      <td>0</td>\n",
       "      <td>1</td>\n",
       "    </tr>\n",
       "    <tr>\n",
       "      <th>3</th>\n",
       "      <td>573</td>\n",
       "      <td>-0.319048</td>\n",
       "      <td>-0.577122</td>\n",
       "      <td>0.141696</td>\n",
       "      <td>-0.901215</td>\n",
       "      <td>-0.037788</td>\n",
       "      <td>-0.322735</td>\n",
       "      <td>-0.301927</td>\n",
       "      <td>0.90309</td>\n",
       "      <td>0</td>\n",
       "      <td>...</td>\n",
       "      <td>0</td>\n",
       "      <td>1</td>\n",
       "      <td>0</td>\n",
       "      <td>0</td>\n",
       "      <td>0</td>\n",
       "      <td>0</td>\n",
       "      <td>1</td>\n",
       "      <td>1</td>\n",
       "      <td>0</td>\n",
       "      <td>0</td>\n",
       "    </tr>\n",
       "    <tr>\n",
       "      <th>4</th>\n",
       "      <td>574</td>\n",
       "      <td>0.052367</td>\n",
       "      <td>-0.577122</td>\n",
       "      <td>0.141696</td>\n",
       "      <td>-0.206717</td>\n",
       "      <td>-0.881690</td>\n",
       "      <td>-0.146656</td>\n",
       "      <td>-0.504209</td>\n",
       "      <td>1.00000</td>\n",
       "      <td>0</td>\n",
       "      <td>...</td>\n",
       "      <td>0</td>\n",
       "      <td>1</td>\n",
       "      <td>0</td>\n",
       "      <td>0</td>\n",
       "      <td>0</td>\n",
       "      <td>1</td>\n",
       "      <td>0</td>\n",
       "      <td>0</td>\n",
       "      <td>0</td>\n",
       "      <td>1</td>\n",
       "    </tr>\n",
       "  </tbody>\n",
       "</table>\n",
       "<p>5 rows × 23 columns</p>\n",
       "</div>"
      ],
      "text/plain": [
       "    Id  accommodates  bathrooms  bedrooms      beds  cleaning_fee  \\\n",
       "0  570      0.052367  -0.577122  0.141696 -0.206717     -0.881690   \n",
       "1  571     -0.690463  -0.577122 -0.827405 -0.901215     -0.178438   \n",
       "2  572      0.052367  -0.577122 -0.827405 -0.206717     -0.881690   \n",
       "3  573     -0.319048  -0.577122  0.141696 -0.901215     -0.037788   \n",
       "4  574      0.052367  -0.577122  0.141696 -0.206717     -0.881690   \n",
       "\n",
       "   minimum_nights  number_of_reviews  review_scores_location  \\\n",
       "0       -0.234696          -0.436781                 0.90309   \n",
       "1       -0.234696           0.170065                 1.00000   \n",
       "2        0.205502          -0.436781                 1.00000   \n",
       "3       -0.322735          -0.301927                 0.90309   \n",
       "4       -0.146656          -0.504209                 1.00000   \n",
       "\n",
       "   instant_bookable       ...        property_type_Villa  \\\n",
       "0                 0       ...                          0   \n",
       "1                 0       ...                          0   \n",
       "2                 0       ...                          0   \n",
       "3                 0       ...                          0   \n",
       "4                 0       ...                          0   \n",
       "\n",
       "   room_type_Entire home/apt  room_type_Private room  room_type_Shared room  \\\n",
       "0                          1                       0                      0   \n",
       "1                          0                       1                      0   \n",
       "2                          1                       0                      0   \n",
       "3                          1                       0                      0   \n",
       "4                          1                       0                      0   \n",
       "\n",
       "   cancellation_policy_flexible  cancellation_policy_moderate  \\\n",
       "0                             1                             0   \n",
       "1                             1                             0   \n",
       "2                             0                             0   \n",
       "3                             0                             0   \n",
       "4                             0                             1   \n",
       "\n",
       "   cancellation_policy_strict  area_Manly  area_Pittwater  area_Warringah  \n",
       "0                           0           0               0               1  \n",
       "1                           0           1               0               0  \n",
       "2                           1           0               0               1  \n",
       "3                           1           1               0               0  \n",
       "4                           0           0               0               1  \n",
       "\n",
       "[5 rows x 23 columns]"
      ]
     },
     "execution_count": 3,
     "metadata": {},
     "output_type": "execute_result"
    }
   ],
   "source": [
    "from Functions import get_feature_ranking, RMSE, train_model, wrapper_feature_selector \n",
    "from pyspark import SparkContext\n",
    "from spark_sklearn import GridSearchCV\n",
    "from pylab import *\n",
    "\n",
    "import pandas as pd\n",
    "import numpy as np\n",
    "from sklearn.metrics import make_scorer\n",
    "from time import time\n",
    "from math import sqrt\n",
    "from xgboost import XGBRegressor\n",
    "\n",
    "from matplotlib import pyplot\n",
    "import plotly.offline as py\n",
    "import plotly.graph_objs as go\n",
    "py.init_notebook_mode(connected=True)\n",
    "%matplotlib inline\n",
    "\n",
    "# Import train + test features (after data processing)\n",
    "data = pd.read_csv('Trees_features.csv')\n",
    "print('n_features:', len(data.iloc[0]))\n",
    "print('n_samples:', len(data))\n",
    "#data = data.iloc[:,1:]\n",
    "data.head()"
   ]
  },
  {
   "cell_type": "code",
   "execution_count": 4,
   "metadata": {},
   "outputs": [
    {
     "name": "stdout",
     "output_type": "stream",
     "text": [
      "n_samples: 383\n"
     ]
    }
   ],
   "source": [
    "# Import train labels\n",
    "Y_train = pd.read_csv('Trees_labels.csv')\n",
    "print('n_samples:', len(Y_train))\n",
    "Y_train = Y_train.iloc[:,1].values"
   ]
  },
  {
   "cell_type": "code",
   "execution_count": 5,
   "metadata": {},
   "outputs": [
    {
     "data": {
      "text/plain": [
       "(383, 22)"
      ]
     },
     "execution_count": 5,
     "metadata": {},
     "output_type": "execute_result"
    }
   ],
   "source": [
    "# Split training and test data\n",
    "train_data  = data.iloc[:383,1:]\n",
    "X_train = train_data.values\n",
    "test_data = data.iloc[383:,1:]\n",
    "X_test = test_data.values\n",
    "X_train.shape"
   ]
  },
  {
   "cell_type": "markdown",
   "metadata": {},
   "source": [
    "### Define feature ranking plot function"
   ]
  },
  {
   "cell_type": "code",
   "execution_count": 10,
   "metadata": {},
   "outputs": [],
   "source": [
    "def plot_features_ranking(feature_importances, model, selected_features=np.arange(0,22).tolist()):\n",
    "    #!/usr/bin/env python\n",
    "    # make a horizontal bar chart\n",
    "    val = feature_importances  # the bar lengths\n",
    "    pos = train_data.columns[selected_features] # the bar centers on the y axis\n",
    "\n",
    "    figure(1,figsize=(10, 8))\n",
    "    barh(pos,val, align='center')\n",
    "    yticks(pos, data.columns[1:])\n",
    "    xlabel('Importance')\n",
    "    title(model)\n",
    "    grid(True) \n",
    "    show()"
   ]
  },
  {
   "cell_type": "markdown",
   "metadata": {},
   "source": [
    "### Parameters Tuning - Random Range\n",
    "gamma, learning_rate, max_depth, n_estimators, min_child_weight, reg_alpha"
   ]
  },
  {
   "cell_type": "code",
   "execution_count": 5,
   "metadata": {},
   "outputs": [
    {
     "data": {
      "text/plain": [
       "Pipeline(memory=None,\n",
       "     steps=[('xgb', XGBRegressor(base_score=0.5, booster='gbtree', colsample_bylevel=1,\n",
       "       colsample_bytree=1, gamma=0, learning_rate=0.1, max_delta_step=0,\n",
       "       max_depth=3, min_child_weight=1, missing=None, n_estimators=100,\n",
       "       n_jobs=1, nthread=None, objective='reg:linear', random_state=0,\n",
       "       reg_alpha=0, reg_lambda=1, scale_pos_weight=1, seed=None,\n",
       "       silent=True, subsample=1))])"
      ]
     },
     "execution_count": 5,
     "metadata": {},
     "output_type": "execute_result"
    }
   ],
   "source": [
    "from sklearn.pipeline import Pipeline\n",
    "pipe = pipe = Pipeline([('xgb', XGBRegressor())])\n",
    "pipe"
   ]
  },
  {
   "cell_type": "code",
   "execution_count": 6,
   "metadata": {},
   "outputs": [
    {
     "name": "stdout",
     "output_type": "stream",
     "text": [
      "Fitting 10 folds for each of 2100 candidates, totalling 21000 fits\n",
      "Best Parameters:  {'xgb__booster': 'gbtree', 'xgb__gamma': 0, 'xgb__learning_rate': 0.1, 'xgb__max_depth': 2, 'xgb__min_child_weight': 2, 'xgb__n_estimators': 70, 'xgb__n_jobs': -1, 'xgb__reg_alpha': 1, 'xgb__silent': True}\n",
      "CPU times: user 2.16 s, sys: 560 ms, total: 2.72 s\n",
      "Wall time: 7min 4s\n"
     ]
    }
   ],
   "source": [
    "%%time\n",
    "sc = SparkContext()\n",
    "\n",
    "\n",
    "param_grid = [{\n",
    "            \"xgb__silent\":[True],\n",
    "            \"xgb__learning_rate\": [0.1,0.2,0.3,0.4,0.5],\n",
    "            \"xgb__gamma\": [0,1,2],\n",
    "            \"xgb__max_depth\": [2,3,4,5,6,7,8,9,10],\n",
    "            \"xgb__n_estimators\": [10,20,30,40,50,60,70,80,90,100],\n",
    "            \"xgb__min_child_weight\": [1,2,3,4,5],\n",
    "            \"xgb__reg_alpha\": [0,1,2],\n",
    "            \"xgb__n_jobs\": [-1],\n",
    "            \"xgb__booster\": [\"gbtree\"]\n",
    "} ]\n",
    "\n",
    "gs = GridSearchCV(sc, pipe, param_grid, cv=10, scoring=make_scorer(RMSE,greater_is_better=False), verbose=1) \n",
    "gs.fit(X_train,Y_train.reshape(-1,))\n",
    "print('Best Parameters: ',gs.cv_results_['params'][gs.best_index_])\n",
    "sc.stop()"
   ]
  },
  {
   "cell_type": "code",
   "execution_count": 7,
   "metadata": {},
   "outputs": [
    {
     "name": "stdout",
     "output_type": "stream",
     "text": [
      "Best RMSE: -66.9857892012947\n"
     ]
    }
   ],
   "source": [
    "print(\"Best RMSE:\", str(gs.cv_results_['mean_test_score'][gs.best_index_]))\n"
   ]
  },
  {
   "cell_type": "markdown",
   "metadata": {},
   "source": [
    "### Recursive Backward Feature Selection 1"
   ]
  },
  {
   "cell_type": "code",
   "execution_count": 13,
   "metadata": {},
   "outputs": [
    {
     "name": "stdout",
     "output_type": "stream",
     "text": [
      "Selected Features: [0, 1, 4, 5, 6, 7, 9, 12, 14, 20, 21]\n",
      "Train RMSE: 65.94\n",
      "CPU times: user 19.4 s, sys: 67.8 ms, total: 19.4 s\n",
      "Wall time: 19.5 s\n"
     ]
    }
   ],
   "source": [
    "%%time\n",
    "# Feature Selection\n",
    "\n",
    "selected_features, rmse = wrapper_feature_selector(X_train,Y_train,xgb)   \n",
    "print('Selected Features:',str(selected_features))\n",
    "print('Train RMSE: {:0.2f}'.format(rmse))\n"
   ]
  },
  {
   "cell_type": "markdown",
   "metadata": {},
   "source": [
    "### Parameters Tuning - subsample & colsample_bytree"
   ]
  },
  {
   "cell_type": "code",
   "execution_count": 6,
   "metadata": {},
   "outputs": [
    {
     "name": "stdout",
     "output_type": "stream",
     "text": [
      "Fitting 10 folds for each of 100 candidates, totalling 1000 fits\n",
      "Best Parameters:  {'xgb__booster': 'gbtree', 'xgb__colsample_bytree': 0.8, 'xgb__gamma': 0, 'xgb__learning_rate': 0.1, 'xgb__max_depth': 2, 'xgb__min_child_weight': 2, 'xgb__n_estimators': 70, 'xgb__n_jobs': -1, 'xgb__reg_alpha': 1, 'xgb__silent': True, 'xgb__subsample': 0.7}\n",
      "Best RMSE: -65.40888338892603\n",
      "CPU times: user 156 ms, sys: 51 ms, total: 207 ms\n",
      "Wall time: 20.2 s\n"
     ]
    }
   ],
   "source": [
    "%%time\n",
    "sc = SparkContext()\n",
    "\n",
    "param_grid = [{\n",
    "            \"xgb__silent\":[True],\n",
    "            \"xgb__learning_rate\": [0.1],\n",
    "            \"xgb__gamma\": [0],\n",
    "            \"xgb__max_depth\": [2],\n",
    "            \"xgb__n_estimators\": [70],\n",
    "            \"xgb__min_child_weight\": [2],\n",
    "            \"xgb__subsample\": [0.1,0.2,0.3,0.4,0.5,0.6,0.7,0.8,0.9,1],\n",
    "            \"xgb__colsample_bytree\": [0.1,0.2,0.3,0.4,0.5,0.6,0.7,0.8,0.9,1],\n",
    "            \"xgb__reg_alpha\": [1],\n",
    "            \"xgb__n_jobs\": [-1],\n",
    "            \"xgb__booster\": [\"gbtree\"]\n",
    "} ]\n",
    "\n",
    "gs = GridSearchCV(sc, pipe, param_grid, cv=10, scoring=make_scorer(RMSE,greater_is_better=False), verbose=1) \n",
    "gs.fit(X_train[:,selected_features],Y_train.reshape(-1,))\n",
    "print('Best Parameters: ',gs.cv_results_['params'][gs.best_index_])\n",
    "print(\"Best RMSE:\", str(gs.cv_results_['mean_test_score'][gs.best_index_]))\n",
    "\n",
    "sc.stop()"
   ]
  },
  {
   "cell_type": "markdown",
   "metadata": {},
   "source": [
    "### Recursive Backward Feature Selection 2"
   ]
  },
  {
   "cell_type": "code",
   "execution_count": 8,
   "metadata": {},
   "outputs": [
    {
     "name": "stdout",
     "output_type": "stream",
     "text": [
      "Selected Features: [0, 1, 4, 5, 6, 7, 9, 12, 14, 20, 21]\n",
      "Train RMSE: 65.41\n",
      "CPU times: user 1.01 s, sys: 7.59 ms, total: 1.02 s\n",
      "Wall time: 1.06 s\n"
     ]
    }
   ],
   "source": [
    "%%time\n",
    "# Feature Selection\n",
    "xgb = XGBRegressor(booster='gbtree',gamma=0,learning_rate=0.1,colsample_bytree=0.8,subsample=0.7,min_child_weight=2,max_depth=2,n_estimators=70,n_jobs=-1,reg_alpha=1,silent=True)\n",
    "selected_features, rmse = wrapper_feature_selector(X_train,Y_train,xgb,subset=selected_features)   \n",
    "print('Selected Features:',str(selected_features))\n",
    "print('Train RMSE: {:0.2f}'.format(rmse))\n"
   ]
  },
  {
   "cell_type": "markdown",
   "metadata": {},
   "source": [
    "### Selected Features Ranking"
   ]
  },
  {
   "cell_type": "code",
   "execution_count": 108,
   "metadata": {},
   "outputs": [
    {
     "name": "stdout",
     "output_type": "stream",
     "text": [
      "XGB Features Ranking: [2, 0, 4, 3, 1, 10, 8, 5, 7, 9]\n"
     ]
    },
    {
     "data": {
      "image/png": "[encoded data removed]",
      "text/plain": [
       "<Figure size 720x576 with 1 Axes>"
      ]
     },
     "metadata": {
      "needs_background": "light"
     },
     "output_type": "display_data"
    },
    {
     "data": {
      "image/png": "[encoded data removed]",
      "text/plain": [
       "<Figure size 432x288 with 1 Axes>"
      ]
     },
     "metadata": {
      "needs_background": "light"
     },
     "output_type": "display_data"
    }
   ],
   "source": [
    "xgb.fit(X_train[:,selected_features],Y_train.reshape(-1,))\n",
    "xgb_features = get_feature_ranking(xgb.feature_importances_)\n",
    "print('XGB Features Ranking:',xgb_features)\n",
    "plot_features_ranking(xgb.feature_importances_, 'XGBoost', selected_features)\n",
    "# plot\n",
    "pyplot.bar(range(len(xgb.feature_importances_)), sorted(xgb.feature_importances_))\n",
    "pyplot.show()"
   ]
  },
  {
   "cell_type": "markdown",
   "metadata": {},
   "source": [
    "### Predictions"
   ]
  },
  {
   "cell_type": "code",
   "execution_count": 9,
   "metadata": {},
   "outputs": [
    {
     "data": {
      "text/plain": [
       "array([100.25848 , 174.27834 ,  88.114746, 107.34847 , 233.17664 ,\n",
       "       130.56302 , 347.17792 , 138.02745 , 135.39423 ,  71.92831 ,\n",
       "       316.76624 , 144.38974 , 302.3412  , 165.42953 , 148.93433 ,\n",
       "       281.0247  , 152.90402 , 231.30476 , 192.87227 , 152.90402 ,\n",
       "       165.05585 , 225.28621 , 224.82346 , 256.014   ,  71.162544,\n",
       "       121.677216,  66.62076 , 124.42175 ,  65.60525 , 168.95816 ,\n",
       "       136.02254 , 220.75406 , 114.46507 , 185.4927  , 132.68338 ,\n",
       "       110.47028 , 290.94418 , 107.10161 , 317.08255 , 105.545746,\n",
       "       249.26503 , 131.73828 , 141.94519 , 100.472336, 156.22426 ,\n",
       "       138.51971 , 187.55885 ,  75.05012 , 151.88506 , 159.99399 ,\n",
       "       202.52692 , 141.94519 ,  65.60525 , 161.81064 ,  68.84205 ,\n",
       "       279.19623 , 178.31912 , 353.70618 ,  54.255157,  90.49515 ,\n",
       "       235.0873  , 106.44043 , 204.62349 , 137.66418 , 135.28291 ,\n",
       "       131.73828 , 118.9813  ,  69.365295, 118.9813  , 207.08476 ,\n",
       "       109.56224 , 240.75922 , 286.49783 , 125.28851 , 241.1619  ,\n",
       "       330.7809  , 211.3818  , 123.82984 , 153.11787 , 104.69533 ,\n",
       "       171.15651 , 109.18497 , 187.29279 , 239.299   , 162.94502 ,\n",
       "       211.89679 , 276.4194  ,  71.162544,  71.162544, 159.99399 ,\n",
       "       124.64832 , 206.0138  , 180.8152  , 243.67508 ,  89.972885,\n",
       "        97.305664, 217.99387 , 251.08315 , 174.27834 , 269.96124 ,\n",
       "       110.22851 , 109.18497 , 274.27615 , 270.43915 , 169.1945  ,\n",
       "       126.77032 , 183.13322 ,  97.305664,  75.211365, 183.27881 ,\n",
       "       207.08476 , 216.6372  , 178.83617 , 162.62315 ,  93.72241 ,\n",
       "       253.71724 , 110.638794,  69.365295, 233.61528 , 326.38702 ,\n",
       "       247.46747 ,  92.81768 , 110.05434 , 218.45221 , 279.05807 ,\n",
       "       100.472336, 242.49867 , 117.42924 , 125.84369 , 301.4633  ,\n",
       "       107.34847 , 189.74527 ,  89.07571 , 343.64944 ,  62.8607  ,\n",
       "       175.24992 , 115.30418 , 306.85983 , 206.40028 , 173.39621 ,\n",
       "       138.0244  ,  94.70474 , 128.99173 , 151.64618 , 222.26752 ,\n",
       "       118.9813  , 319.63828 , 246.09846 , 227.74052 , 191.5102  ,\n",
       "       223.39746 ,  94.000145,  55.860268, 159.99399 , 135.94408 ,\n",
       "       308.5663  , 246.90332 , 106.58271 , 288.3577  , 116.62512 ,\n",
       "       204.29184 , 147.79366 , 135.94408 , 180.86186 ,  58.42327 ,\n",
       "       165.83633 , 105.55264 ,  58.42327 ,  89.320145, 263.38293 ,\n",
       "       130.89153 , 181.55327 , 194.72632 ,  67.760185, 134.62846 ,\n",
       "       153.11787 , 174.53828 ,  91.94514 , 123.733536, 109.98401 ,\n",
       "       157.78828 , 244.50389 , 138.02745 ,  87.741066, 109.67724 ,\n",
       "       272.15292 , 350.00626 ,  65.58053 , 204.51538 , 153.11787 ,\n",
       "       161.02702 , 346.23477 , 100.472336, 181.19249 , 200.33604 ,\n",
       "       113.24497 , 118.04871 , 194.53116 , 217.99387 ,  96.318146,\n",
       "       292.00458 , 180.72841 , 115.83283 , 174.08884 , 230.27052 ,\n",
       "       278.89084 , 128.16339 , 222.04662 , 251.36198 , 125.6712  ,\n",
       "       153.10243 , 132.62613 , 252.87645 , 158.97781 , 266.50333 ,\n",
       "        76.304276,  58.42327 , 135.39423 , 162.88824 , 143.767   ,\n",
       "        67.38652 , 174.04697 , 191.94711 , 103.80172 , 112.728546,\n",
       "       118.04871 , 100.472336, 150.58315 , 226.64598 , 175.60648 ,\n",
       "       222.9815  , 313.0242  , 278.86926 , 136.20494 , 145.25018 ,\n",
       "       255.01865 , 179.10672 , 121.95615 , 105.41013 , 169.46858 ,\n",
       "       289.47983 , 347.5228  , 236.45859 , 302.5178  ,  77.80366 ,\n",
       "       344.67935 , 153.10243 , 181.00174 , 217.99387 ,  65.60525 ,\n",
       "       193.08781 , 135.2981  , 107.34847 ,  66.99442 , 150.70567 ,\n",
       "       268.1903  , 264.8191  , 248.04594 , 180.18948 , 162.22984 ,\n",
       "        65.60525 , 158.50262 , 100.25848 , 276.6271  , 236.38487 ,\n",
       "       284.51877 , 163.90375 , 194.75102 , 115.29156 , 275.16956 ,\n",
       "       280.8409  , 171.15651 , 152.0476  , 187.55885 , 130.9198  ,\n",
       "       184.6748  , 108.08332 , 117.676384, 113.85211 , 103.50343 ,\n",
       "        90.4856  , 103.8648  ,  67.760185,  75.05012 , 303.23996 ,\n",
       "       183.28615 , 304.43893 ,  71.92831 , 325.88477 ,  85.73132 ,\n",
       "       152.70084 , 135.39423 , 284.957   , 186.52295 , 240.33138 ,\n",
       "       131.14085 , 192.91591 , 247.71399 , 112.421776, 169.59764 ,\n",
       "       207.7823  ,  71.92831 , 277.97498 , 175.60648 , 118.9813  ,\n",
       "       165.42953 ,  96.74468 , 174.85303 , 170.61618 , 173.91177 ,\n",
       "        87.741066, 229.55463 , 143.75096 , 232.96362 , 319.78174 ,\n",
       "        65.60525 , 147.79488 , 267.16815 , 318.56647 , 161.81064 ,\n",
       "       306.28217 , 163.83493 , 227.46902 , 165.62088 , 176.1279  ,\n",
       "       160.11308 , 132.85803 , 294.71765 , 185.5907  , 209.38931 ,\n",
       "       149.38286 , 157.56595 , 197.43205 ,  99.36568 , 245.36443 ,\n",
       "       188.6644  , 300.08722 ,  67.15057 , 182.06151 ,  71.11219 ,\n",
       "       180.0114  , 181.69409 , 153.11787 , 217.99387 , 122.96777 ,\n",
       "       211.79381 , 261.47385 , 152.70084 , 157.2528  , 148.76523 ,\n",
       "       284.7324  , 165.42953 , 192.63173 , 251.03682 , 148.30879 ,\n",
       "       161.30951 ,  58.42327 , 105.198135,  97.7278  , 167.39957 ,\n",
       "       217.99387 ,  75.81512 , 218.04753 , 117.37226 , 135.28291 ,\n",
       "       301.60684 , 181.74442 , 150.37334 , 275.47946 , 207.99107 ,\n",
       "       150.53941 , 229.04028 , 128.35617 ,  96.74468 , 178.96193 ,\n",
       "       302.67676 , 336.50375 , 155.61969 , 188.0398  , 107.794945,\n",
       "       169.84518 , 136.08734 , 204.29184 ,  87.741066,  87.37334 ,\n",
       "       136.46103 , 290.15317 , 219.8106  ,  60.841278, 100.25848 ,\n",
       "       155.51987 , 206.8284  , 207.41628 ,  65.60525 , 172.73552 ,\n",
       "       107.34847 ,  79.708206, 189.74527 , 170.68492 , 237.47922 ,\n",
       "        82.08061 , 269.0553  , 186.98952 ,  96.318146, 117.33267 ,\n",
       "       253.68788 , 119.84596 , 133.88899 , 180.0114  , 222.6317  ,\n",
       "       178.18362 ,  97.7278  , 268.46283 , 153.11787 , 241.6401  ,\n",
       "       115.29156 , 171.15651 , 339.76373 ,  98.62552 , 300.29895 ,\n",
       "       275.2412  , 174.27834 , 274.77335 , 279.73715 , 200.36133 ,\n",
       "       192.87227 , 141.34271 ,  55.860268, 255.19432 , 243.4532  ,\n",
       "       103.94173 , 173.91177 , 281.1936  , 137.48323 , 169.84518 ,\n",
       "       257.81696 , 130.76717 , 123.733536, 107.34847 , 250.36337 ,\n",
       "       273.19073 ,  96.74468 , 134.25267 , 162.22984 , 162.88612 ,\n",
       "        72.48711 , 214.6447  , 158.13431 , 263.28635 ,  69.365295,\n",
       "       276.8075  ,  90.935524, 167.62373 , 181.00174 , 147.15938 ,\n",
       "        71.162544, 239.21812 , 104.5034  , 221.78731 , 184.03818 ,\n",
       "       158.58429 , 156.02585 , 135.28291 , 153.11787 , 176.74956 ,\n",
       "       164.93246 , 242.74756 , 147.58385 , 186.52295 , 148.76523 ,\n",
       "       237.74837 , 135.27986 , 173.00607 , 123.499275, 163.2543  ,\n",
       "       104.54533 ,  75.05012 ,  96.93352 , 244.82797 , 117.049515,\n",
       "       309.56998 , 175.82056 , 279.3249  , 134.44415 , 285.4577  ,\n",
       "       221.76616 ,  67.760185, 124.418915, 243.60051 , 319.3771  ,\n",
       "       200.09804 , 325.44705 , 157.4362  ,  94.057335, 234.52612 ,\n",
       "       135.39423 , 372.086   , 156.38107 , 133.66568 , 173.00607 ,\n",
       "       178.72505 , 174.85303 , 118.04871 ,  71.92831 , 258.77737 ,\n",
       "       162.62315 , 136.76178 ,  77.19014 , 239.16716 , 181.00174 ,\n",
       "        75.05012 ,  90.4856  ,  70.116234, 100.472336,  66.99442 ,\n",
       "       202.98105 , 252.589   , 244.25603 , 234.35548 , 132.3234  ,\n",
       "        71.162544, 302.71396 , 168.47838 , 150.9167  , 154.77055 ,\n",
       "       228.24084 , 317.0488  ,  89.972885, 103.786285, 107.34847 ,\n",
       "       308.1256  , 239.11258 ,  97.7278  ,  55.860268,  71.92831 ,\n",
       "       233.61638 , 167.39957 , 267.526   , 121.13678 , 200.11447 ,\n",
       "       175.60648 , 313.24408 , 265.61713 , 284.72784 , 341.37332 ,\n",
       "        71.162544, 178.37955 , 138.5349  , 356.76917 , 110.22851 ,\n",
       "       151.1391  , 259.42105 , 268.65448 , 138.71738 , 285.77075 ,\n",
       "       159.99399 ,  65.60525 , 131.73828 , 141.26425 , 266.89423 ,\n",
       "       170.49431 ,  69.365295, 147.15938 ,  90.16976 ,  55.860268,\n",
       "        93.72241 ,  67.760185, 126.08606 , 120.611725, 182.14412 ],\n",
       "      dtype=float32)"
      ]
     },
     "execution_count": 9,
     "metadata": {},
     "output_type": "execute_result"
    }
   ],
   "source": [
    "xgb = XGBRegressor(booster='gbtree',gamma=0,learning_rate=0.1,colsample_bytree=0.8,subsample=0.7,min_child_weight=2,max_depth=2,n_estimators=70,n_jobs=-1,reg_alpha=1,silent=True)\n",
    "xgb.fit(X_train[:,selected_features],Y_train)\n",
    "Y_pred = xgb.predict(X_test[:,selected_features])\n",
    "\n",
    "# Output to csv file\n",
    "from pandas import DataFrame\n",
    "y_p = {'id': np.arange(0,570),'price': Y_pred.reshape(-1,)}\n",
    "y_p = DataFrame(y_p)\n",
    "y_p.to_csv('XGBoost.csv', index=False)\n",
    "Y_pred"
   ]
  }
 ],
 "metadata": {
  "kernelspec": {
   "display_name": "Python 3",
   "language": "python",
   "name": "python3"
  },
  "language_info": {
   "codemirror_mode": {
    "name": "ipython",
    "version": 3
   },
   "file_extension": ".py",
   "mimetype": "text/x-python",
   "name": "python",
   "nbconvert_exporter": "python",
   "pygments_lexer": "ipython3",
   "version": "3.6.6"
  }
 },
 "nbformat": 4,
 "nbformat_minor": 2
}
