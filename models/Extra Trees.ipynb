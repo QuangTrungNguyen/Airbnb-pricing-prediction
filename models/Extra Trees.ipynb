{
 "cells": [
  {
   "cell_type": "markdown",
   "metadata": {},
   "source": [
    "### Import Libraries and Dataset"
   ]
  },
  {
   "cell_type": "code",
   "execution_count": 1,
   "metadata": {},
   "outputs": [
    {
     "data": {
      "text/html": [
       "<script>requirejs.config({paths: { 'plotly': ['https://cdn.plot.ly/plotly-latest.min']},});if(!window.Plotly) {{require(['plotly'],function(plotly) {window.Plotly=plotly;});}}</script>"
      ],
      "text/vnd.plotly.v1+html": [
       "<script>requirejs.config({paths: { 'plotly': ['https://cdn.plot.ly/plotly-latest.min']},});if(!window.Plotly) {{require(['plotly'],function(plotly) {window.Plotly=plotly;});}}</script>"
      ]
     },
     "metadata": {},
     "output_type": "display_data"
    },
    {
     "name": "stdout",
     "output_type": "stream",
     "text": [
      "n_features: 23\n",
      "n_samples: 953\n"
     ]
    },
    {
     "data": {
      "text/html": [
       "<div>\n",
       "<style scoped>\n",
       "    .dataframe tbody tr th:only-of-type {\n",
       "        vertical-align: middle;\n",
       "    }\n",
       "\n",
       "    .dataframe tbody tr th {\n",
       "        vertical-align: top;\n",
       "    }\n",
       "\n",
       "    .dataframe thead th {\n",
       "        text-align: right;\n",
       "    }\n",
       "</style>\n",
       "<table border=\"1\" class=\"dataframe\">\n",
       "  <thead>\n",
       "    <tr style=\"text-align: right;\">\n",
       "      <th></th>\n",
       "      <th>Id</th>\n",
       "      <th>accommodates</th>\n",
       "      <th>bathrooms</th>\n",
       "      <th>bedrooms</th>\n",
       "      <th>beds</th>\n",
       "      <th>cleaning_fee</th>\n",
       "      <th>minimum_nights</th>\n",
       "      <th>number_of_reviews</th>\n",
       "      <th>review_scores_location</th>\n",
       "      <th>instant_bookable</th>\n",
       "      <th>...</th>\n",
       "      <th>property_type_Villa</th>\n",
       "      <th>room_type_Entire home/apt</th>\n",
       "      <th>room_type_Private room</th>\n",
       "      <th>room_type_Shared room</th>\n",
       "      <th>cancellation_policy_flexible</th>\n",
       "      <th>cancellation_policy_moderate</th>\n",
       "      <th>cancellation_policy_strict</th>\n",
       "      <th>area_Manly</th>\n",
       "      <th>area_Pittwater</th>\n",
       "      <th>area_Warringah</th>\n",
       "    </tr>\n",
       "  </thead>\n",
       "  <tbody>\n",
       "    <tr>\n",
       "      <th>0</th>\n",
       "      <td>570</td>\n",
       "      <td>0.052367</td>\n",
       "      <td>-0.577122</td>\n",
       "      <td>0.141696</td>\n",
       "      <td>-0.206717</td>\n",
       "      <td>-0.881690</td>\n",
       "      <td>-0.234696</td>\n",
       "      <td>-0.436781</td>\n",
       "      <td>0.90309</td>\n",
       "      <td>0</td>\n",
       "      <td>...</td>\n",
       "      <td>0</td>\n",
       "      <td>1</td>\n",
       "      <td>0</td>\n",
       "      <td>0</td>\n",
       "      <td>1</td>\n",
       "      <td>0</td>\n",
       "      <td>0</td>\n",
       "      <td>0</td>\n",
       "      <td>0</td>\n",
       "      <td>1</td>\n",
       "    </tr>\n",
       "    <tr>\n",
       "      <th>1</th>\n",
       "      <td>571</td>\n",
       "      <td>-0.690463</td>\n",
       "      <td>-0.577122</td>\n",
       "      <td>-0.827405</td>\n",
       "      <td>-0.901215</td>\n",
       "      <td>-0.178438</td>\n",
       "      <td>-0.234696</td>\n",
       "      <td>0.170065</td>\n",
       "      <td>1.00000</td>\n",
       "      <td>0</td>\n",
       "      <td>...</td>\n",
       "      <td>0</td>\n",
       "      <td>0</td>\n",
       "      <td>1</td>\n",
       "      <td>0</td>\n",
       "      <td>1</td>\n",
       "      <td>0</td>\n",
       "      <td>0</td>\n",
       "      <td>1</td>\n",
       "      <td>0</td>\n",
       "      <td>0</td>\n",
       "    </tr>\n",
       "    <tr>\n",
       "      <th>2</th>\n",
       "      <td>572</td>\n",
       "      <td>0.052367</td>\n",
       "      <td>-0.577122</td>\n",
       "      <td>-0.827405</td>\n",
       "      <td>-0.206717</td>\n",
       "      <td>-0.881690</td>\n",
       "      <td>0.205502</td>\n",
       "      <td>-0.436781</td>\n",
       "      <td>1.00000</td>\n",
       "      <td>0</td>\n",
       "      <td>...</td>\n",
       "      <td>0</td>\n",
       "      <td>1</td>\n",
       "      <td>0</td>\n",
       "      <td>0</td>\n",
       "      <td>0</td>\n",
       "      <td>0</td>\n",
       "      <td>1</td>\n",
       "      <td>0</td>\n",
       "      <td>0</td>\n",
       "      <td>1</td>\n",
       "    </tr>\n",
       "    <tr>\n",
       "      <th>3</th>\n",
       "      <td>573</td>\n",
       "      <td>-0.319048</td>\n",
       "      <td>-0.577122</td>\n",
       "      <td>0.141696</td>\n",
       "      <td>-0.901215</td>\n",
       "      <td>-0.037788</td>\n",
       "      <td>-0.322735</td>\n",
       "      <td>-0.301927</td>\n",
       "      <td>0.90309</td>\n",
       "      <td>0</td>\n",
       "      <td>...</td>\n",
       "      <td>0</td>\n",
       "      <td>1</td>\n",
       "      <td>0</td>\n",
       "      <td>0</td>\n",
       "      <td>0</td>\n",
       "      <td>0</td>\n",
       "      <td>1</td>\n",
       "      <td>1</td>\n",
       "      <td>0</td>\n",
       "      <td>0</td>\n",
       "    </tr>\n",
       "    <tr>\n",
       "      <th>4</th>\n",
       "      <td>574</td>\n",
       "      <td>0.052367</td>\n",
       "      <td>-0.577122</td>\n",
       "      <td>0.141696</td>\n",
       "      <td>-0.206717</td>\n",
       "      <td>-0.881690</td>\n",
       "      <td>-0.146656</td>\n",
       "      <td>-0.504209</td>\n",
       "      <td>1.00000</td>\n",
       "      <td>0</td>\n",
       "      <td>...</td>\n",
       "      <td>0</td>\n",
       "      <td>1</td>\n",
       "      <td>0</td>\n",
       "      <td>0</td>\n",
       "      <td>0</td>\n",
       "      <td>1</td>\n",
       "      <td>0</td>\n",
       "      <td>0</td>\n",
       "      <td>0</td>\n",
       "      <td>1</td>\n",
       "    </tr>\n",
       "  </tbody>\n",
       "</table>\n",
       "<p>5 rows × 23 columns</p>\n",
       "</div>"
      ],
      "text/plain": [
       "    Id  accommodates  bathrooms  bedrooms      beds  cleaning_fee  \\\n",
       "0  570      0.052367  -0.577122  0.141696 -0.206717     -0.881690   \n",
       "1  571     -0.690463  -0.577122 -0.827405 -0.901215     -0.178438   \n",
       "2  572      0.052367  -0.577122 -0.827405 -0.206717     -0.881690   \n",
       "3  573     -0.319048  -0.577122  0.141696 -0.901215     -0.037788   \n",
       "4  574      0.052367  -0.577122  0.141696 -0.206717     -0.881690   \n",
       "\n",
       "   minimum_nights  number_of_reviews  review_scores_location  \\\n",
       "0       -0.234696          -0.436781                 0.90309   \n",
       "1       -0.234696           0.170065                 1.00000   \n",
       "2        0.205502          -0.436781                 1.00000   \n",
       "3       -0.322735          -0.301927                 0.90309   \n",
       "4       -0.146656          -0.504209                 1.00000   \n",
       "\n",
       "   instant_bookable       ...        property_type_Villa  \\\n",
       "0                 0       ...                          0   \n",
       "1                 0       ...                          0   \n",
       "2                 0       ...                          0   \n",
       "3                 0       ...                          0   \n",
       "4                 0       ...                          0   \n",
       "\n",
       "   room_type_Entire home/apt  room_type_Private room  room_type_Shared room  \\\n",
       "0                          1                       0                      0   \n",
       "1                          0                       1                      0   \n",
       "2                          1                       0                      0   \n",
       "3                          1                       0                      0   \n",
       "4                          1                       0                      0   \n",
       "\n",
       "   cancellation_policy_flexible  cancellation_policy_moderate  \\\n",
       "0                             1                             0   \n",
       "1                             1                             0   \n",
       "2                             0                             0   \n",
       "3                             0                             0   \n",
       "4                             0                             1   \n",
       "\n",
       "   cancellation_policy_strict  area_Manly  area_Pittwater  area_Warringah  \n",
       "0                           0           0               0               1  \n",
       "1                           0           1               0               0  \n",
       "2                           1           0               0               1  \n",
       "3                           1           1               0               0  \n",
       "4                           0           0               0               1  \n",
       "\n",
       "[5 rows x 23 columns]"
      ]
     },
     "execution_count": 1,
     "metadata": {},
     "output_type": "execute_result"
    }
   ],
   "source": [
    "from Functions import get_feature_ranking, RMSE, train_model, wrapper_feature_selector\n",
    "from pyspark import SparkContext\n",
    "from spark_sklearn import GridSearchCV\n",
    "from pylab import *\n",
    "\n",
    "import pandas as pd\n",
    "import numpy as np\n",
    "from sklearn.metrics import make_scorer\n",
    "from time import time\n",
    "from math import sqrt\n",
    "from sklearn.ensemble import ExtraTreesRegressor\n",
    "\n",
    "from matplotlib import pyplot\n",
    "import plotly.offline as py\n",
    "import plotly.graph_objs as go\n",
    "py.init_notebook_mode(connected=True)\n",
    "%matplotlib inline\n",
    "\n",
    "# Import train + test features (after data processing)\n",
    "data = pd.read_csv('Trees_features.csv')\n",
    "print('n_features:', len(data.iloc[0]))\n",
    "print('n_samples:', len(data))\n",
    "data.head()"
   ]
  },
  {
   "cell_type": "code",
   "execution_count": 2,
   "metadata": {},
   "outputs": [
    {
     "name": "stdout",
     "output_type": "stream",
     "text": [
      "n_samples: 383\n"
     ]
    }
   ],
   "source": [
    "# Import train labels\n",
    "Y_train = pd.read_csv('Trees_labels.csv')\n",
    "print('n_samples:', len(Y_train))\n",
    "Y_train = Y_train.iloc[:,1].values"
   ]
  },
  {
   "cell_type": "code",
   "execution_count": 3,
   "metadata": {},
   "outputs": [
    {
     "data": {
      "text/plain": [
       "(383, 22)"
      ]
     },
     "execution_count": 3,
     "metadata": {},
     "output_type": "execute_result"
    }
   ],
   "source": [
    "# Split training and test data\n",
    "train_data  = data.iloc[:383,1:]\n",
    "X_train = train_data.values\n",
    "test_data = data.iloc[383:,1:]\n",
    "X_test = test_data.values\n",
    "X_train.shape"
   ]
  },
  {
   "cell_type": "markdown",
   "metadata": {},
   "source": [
    "### Define feature ranking plot function"
   ]
  },
  {
   "cell_type": "code",
   "execution_count": 4,
   "metadata": {},
   "outputs": [],
   "source": [
    "def plot_features_ranking(feature_importances, model, selected_features=np.arange(0,22).tolist()):\n",
    "    #!/usr/bin/env python\n",
    "    # make a horizontal bar chart\n",
    "    val = feature_importances  # the bar lengths\n",
    "    pos = train_data.columns[selected_features] # the bar centers on the y axis\n",
    "\n",
    "    figure(1,figsize=(10, 8))\n",
    "    barh(pos,val, align='center')\n",
    "    yticks(pos, data.columns[1:])\n",
    "    xlabel('Importance')\n",
    "    title(model)\n",
    "    grid(True) \n",
    "    show()"
   ]
  },
  {
   "cell_type": "markdown",
   "metadata": {},
   "source": [
    "### Pre-Tuning Recursive Feature Selection "
   ]
  },
  {
   "cell_type": "code",
   "execution_count": 3,
   "metadata": {},
   "outputs": [
    {
     "name": "stdout",
     "output_type": "stream",
     "text": [
      "Selected Features: [0, 1, 3, 4, 5, 6, 8, 9, 11, 12, 13, 14, 15, 16, 17, 18, 19, 20, 21]\n"
     ]
    }
   ],
   "source": [
    "etrees = ExtraTreesRegressor(n_jobs=-1,random_state=100) \n",
    "selected_features, rmse = wrapper_feature_selector(X_train,Y_train,etrees)   \n",
    "print('Selected Features:',str(selected_features))"
   ]
  },
  {
   "cell_type": "markdown",
   "metadata": {},
   "source": [
    "### Parameters Tuning"
   ]
  },
  {
   "cell_type": "code",
   "execution_count": 5,
   "metadata": {},
   "outputs": [
    {
     "data": {
      "text/plain": [
       "Pipeline(memory=None,\n",
       "     steps=[('extrees', ExtraTreesRegressor(bootstrap=False, criterion='mse', max_depth=None,\n",
       "          max_features='auto', max_leaf_nodes=None,\n",
       "          min_impurity_decrease=0.0, min_impurity_split=None,\n",
       "          min_samples_leaf=1, min_samples_split=2,\n",
       "          min_weight_fraction_leaf=0.0, n_estimators=10, n_jobs=1,\n",
       "          oob_score=False, random_state=None, verbose=0, warm_start=False))])"
      ]
     },
     "execution_count": 5,
     "metadata": {},
     "output_type": "execute_result"
    }
   ],
   "source": [
    "from sklearn.pipeline import Pipeline\n",
    "pipe = pipe = Pipeline([\n",
    "    \n",
    "    ('extrees', ExtraTreesRegressor())\n",
    "])\n",
    "pipe"
   ]
  },
  {
   "cell_type": "code",
   "execution_count": 6,
   "metadata": {},
   "outputs": [
    {
     "name": "stdout",
     "output_type": "stream",
     "text": [
      "Fitting 10 folds for each of 420 candidates, totalling 4200 fits\n",
      "Best Parameters:  {'extrees__bootstrap': True, 'extrees__max_depth': 8, 'extrees__max_features': 7, 'extrees__n_estimators': 40, 'extrees__n_jobs': -1, 'extrees__random_state': 100}\n",
      "CPU times: user 596 ms, sys: 175 ms, total: 771 ms\n",
      "Wall time: 6min 49s\n"
     ]
    }
   ],
   "source": [
    "%%time\n",
    "sc = SparkContext()\n",
    "\n",
    "param_grid = [{\"extrees__max_features\": [5,6,7,8,9,10,11],\n",
    "              \"extrees__n_estimators\": [20,30,40,50,60,70],\n",
    "              \"extrees__random_state\": [100],\n",
    "              \"extrees__max_depth\": [2,3,4,5,6,7,8,9,10,11],\n",
    "              \"extrees__n_jobs\": [-1],\n",
    "              \"extrees__bootstrap\": [True]\n",
    "        }]\n",
    "\n",
    "gs = GridSearchCV(sc, pipe, param_grid, cv=10, scoring=make_scorer(RMSE,greater_is_better=False), verbose=1) \n",
    "gs.fit(X_train[:,selected_features],Y_train.reshape(-1,))\n",
    "print('Best Parameters: ',gs.cv_results_['params'][gs.best_index_])\n",
    "sc.stop()"
   ]
  },
  {
   "cell_type": "code",
   "execution_count": 7,
   "metadata": {},
   "outputs": [
    {
     "name": "stdout",
     "output_type": "stream",
     "text": [
      "Best RMSE: -67.30846916511219\n"
     ]
    }
   ],
   "source": [
    "print(\"Best RMSE:\", str(gs.cv_results_['mean_test_score'][gs.best_index_]))\n"
   ]
  },
  {
   "cell_type": "markdown",
   "metadata": {},
   "source": [
    "### Recursive Feature Selection"
   ]
  },
  {
   "cell_type": "code",
   "execution_count": 16,
   "metadata": {},
   "outputs": [
    {
     "name": "stdout",
     "output_type": "stream",
     "text": [
      "Selected Features: [0, 1, 3, 4, 5, 6, 8, 9, 11, 12, 13, 14, 15, 16, 17, 18, 19, 20, 21 ]\n",
      "Train RMSE: 67.31\n",
      "CPU times: user 16.7 s, sys: 3.38 s, total: 20.1 s\n",
      "Wall time: 1min 16s\n"
     ]
    }
   ],
   "source": [
    "%%time\n",
    "# Feature Selection\n",
    "etrees = ExtraTreesRegressor(bootstrap=True,max_depth=8,max_features=7,n_estimators=40,n_jobs=-1,random_state=100) \n",
    "\n",
    "selected_features, rmse = wrapper_feature_selector(X_train,Y_train,etrees,subset=selected_features)   \n",
    "print('Selected Features:',str(selected_features))\n",
    "print('Train RMSE: {:0.2f}'.format(rmse))\n"
   ]
  },
  {
   "cell_type": "markdown",
   "metadata": {},
   "source": [
    "### Selected Features Ranking"
   ]
  },
  {
   "cell_type": "code",
   "execution_count": 67,
   "metadata": {},
   "outputs": [
    {
     "name": "stdout",
     "output_type": "stream",
     "text": [
      "XGB Features Ranking: [11, 3, 10, 0, 1, 2, 7, 18, 4, 17, 15, 5, 6, 16, 13, 14, 8, 12, 9]\n"
     ]
    },
    {
     "data": {
      "image/png": "[encoded data removed]",
      "text/plain": [
       "<Figure size 720x576 with 1 Axes>"
      ]
     },
     "metadata": {
      "needs_background": "light"
     },
     "output_type": "display_data"
    },
    {
     "data": {
      "image/png": "[encoded data removed]",
      "text/plain": [
       "<Figure size 432x288 with 1 Axes>"
      ]
     },
     "metadata": {
      "needs_background": "light"
     },
     "output_type": "display_data"
    }
   ],
   "source": [
    "etrees = ExtraTreesRegressor(bootstrap=True,oob_score=True,max_depth=8,max_features=7,n_estimators=40,n_jobs=-1,random_state=100) \n",
    "etrees.fit(X_train[:,selected_features],Y_train)\n",
    "etrees_features = get_feature_ranking(etrees.feature_importances_)\n",
    "print('XGB Features Ranking:',etrees_features)\n",
    "plot_features_ranking(etrees.feature_importances_, 'XGBoost', selected_features)\n",
    "# plot\n",
    "pyplot.bar(range(len(etrees.feature_importances_)), sorted(etrees.feature_importances_))\n",
    "pyplot.show()\n"
   ]
  },
  {
   "cell_type": "markdown",
   "metadata": {},
   "source": [
    "### Prediction"
   ]
  },
  {
   "cell_type": "code",
   "execution_count": 50,
   "metadata": {},
   "outputs": [],
   "source": [
    "etrees = ExtraTreesRegressor(bootstrap=True,oob_score=True,max_depth=8,max_features=7,n_estimators=40,n_jobs=-1,random_state=100) \n",
    "etrees.fit(X_train[:,selected_features],Y_train)\n",
    "Y_pred = etrees.predict(X_test[:,selected_features])\n",
    "# Output to csv file\n",
    "from pandas import DataFrame\n",
    "y_p = {'id': np.arange(0,570),'price': Y_pred.reshape(-1,)}\n",
    "y_p = DataFrame(y_p)\n",
    "y_p.to_csv('ExtraTrees.csv', index=False)\n"
   ]
  },
  {
   "cell_type": "code",
   "execution_count": null,
   "metadata": {},
   "outputs": [],
   "source": []
  }
 ],
 "metadata": {
  "kernelspec": {
   "display_name": "Python 3",
   "language": "python",
   "name": "python3"
  },
  "language_info": {
   "codemirror_mode": {
    "name": "ipython",
    "version": 3
   },
   "file_extension": ".py",
   "mimetype": "text/x-python",
   "name": "python",
   "nbconvert_exporter": "python",
   "pygments_lexer": "ipython3",
   "version": "3.6.6"
  }
 },
 "nbformat": 4,
 "nbformat_minor": 2
}
